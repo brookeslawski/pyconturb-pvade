{
 "cells": [
  {
   "cell_type": "markdown",
   "metadata": {},
   "source": [
    "# Constrained turbulence"
   ]
  },
  {
   "cell_type": "markdown",
   "metadata": {},
   "source": [
    "This notebook contains a demonstration of how the `pyconturb` package can be easily used to generate turbulence that is constrained by one or more time series at a point in space.\n",
    "\n",
    "The demo uses pre-generated time series that were simulated at a series of vertically spaced points. The `gen_turb` function is then used with these time series as constraints to result in a turbulence box that follows IEC 61400-1 Ed. 3 specifications but is correlated with the constraints. In other words, the coherence between the constraining time series and the simulated time series also follow IEC specifications.\n",
    "\n",
    "It is worth noting that other models for the spectral magnitudes or coherences can be used. This demo is only meant as a proof-of-concept.\n",
    "\n",
    "\n",
    "This example has the following sections:  \n",
    "\n",
    "* [Preliminaries](#Preliminaries:-importing-functions)  \n",
    "\n",
    "* [Constraining time series](#Constraining-time-series)  \n",
    "\n",
    "* [Inputs to constrained turbulence](#Inputs-to-constrained-turbulence)  \n",
    "\n",
    "* [Generate constrained turbulence](#Generate-constrained-turbulence)  "
   ]
  },
  {
   "cell_type": "markdown",
   "metadata": {},
   "source": [
    "## Preliminaries: importing functions\n",
    "\n",
    "We first set a few notebook-specific functions/variables and then import functions from the `pyconturb` package."
   ]
  },
  {
   "cell_type": "code",
   "execution_count": 1,
   "metadata": {},
   "outputs": [],
   "source": [
    "%matplotlib inline\n",
    "from pathlib import Path\n",
    "\n",
    "import matplotlib.pyplot as plt  # matplotlib for some plotting\n",
    "import numpy as np  # numeric python functions\n",
    "import pandas as pd  # need this to load our data from the csv files\n",
    "\n",
    "from pyconturb import gen_turb, gen_spat_grid, TimeConstraint  # functions we need from PyConTurb\n",
    "\n",
    "data_dir = Path('.').absolute() / 'data'"
   ]
  },
  {
   "cell_type": "markdown",
   "metadata": {},
   "source": [
    "## Constraining time series"
   ]
  },
  {
   "cell_type": "markdown",
   "metadata": {
    "collapsed": true
   },
   "source": [
    "*Note: older versions of PyConTurb used con_spat_df and con_turb_df for constraints. This is deprecated and will not be supported in the future.*\n",
    "\n",
    "The main object used when handling constraints is PyConTurb's `TimeConstraint` object. This object is basically the same as a pandas DataFrame but with a few extra features added. Please see the related section in the Reference guide for more info.\n",
    "\n",
    "The constraining time series are stored in a CSV file. We can use pandas to load the data, though we need to do some cleaning on the index by converting the data types of some rows to floats."
   ]
  },
  {
   "cell_type": "code",
   "execution_count": 2,
   "metadata": {},
   "outputs": [
    {
     "data": {
      "text/html": [
       "<div>\n",
       "<style scoped>\n",
       "    .dataframe tbody tr th:only-of-type {\n",
       "        vertical-align: middle;\n",
       "    }\n",
       "\n",
       "    .dataframe tbody tr th {\n",
       "        vertical-align: top;\n",
       "    }\n",
       "\n",
       "    .dataframe thead th {\n",
       "        text-align: right;\n",
       "    }\n",
       "</style>\n",
       "<table border=\"1\" class=\"dataframe\">\n",
       "  <thead>\n",
       "    <tr style=\"text-align: right;\">\n",
       "      <th></th>\n",
       "      <th>u_p0</th>\n",
       "      <th>u_p1</th>\n",
       "      <th>u_p2</th>\n",
       "      <th>u_p3</th>\n",
       "      <th>u_p4</th>\n",
       "      <th>u_p5</th>\n",
       "      <th>v_p0</th>\n",
       "      <th>v_p1</th>\n",
       "      <th>v_p2</th>\n",
       "      <th>v_p3</th>\n",
       "      <th>v_p4</th>\n",
       "      <th>v_p5</th>\n",
       "      <th>w_p0</th>\n",
       "      <th>w_p1</th>\n",
       "      <th>w_p2</th>\n",
       "      <th>w_p3</th>\n",
       "      <th>w_p4</th>\n",
       "      <th>w_p5</th>\n",
       "    </tr>\n",
       "    <tr>\n",
       "      <th>index</th>\n",
       "      <th></th>\n",
       "      <th></th>\n",
       "      <th></th>\n",
       "      <th></th>\n",
       "      <th></th>\n",
       "      <th></th>\n",
       "      <th></th>\n",
       "      <th></th>\n",
       "      <th></th>\n",
       "      <th></th>\n",
       "      <th></th>\n",
       "      <th></th>\n",
       "      <th></th>\n",
       "      <th></th>\n",
       "      <th></th>\n",
       "      <th></th>\n",
       "      <th></th>\n",
       "      <th></th>\n",
       "    </tr>\n",
       "  </thead>\n",
       "  <tbody>\n",
       "    <tr>\n",
       "      <th>k</th>\n",
       "      <td>0.000000</td>\n",
       "      <td>0.000000</td>\n",
       "      <td>0.000000</td>\n",
       "      <td>0.000000</td>\n",
       "      <td>0.000000</td>\n",
       "      <td>0.000000</td>\n",
       "      <td>1.000000</td>\n",
       "      <td>1.000000</td>\n",
       "      <td>1.000000</td>\n",
       "      <td>1.000000</td>\n",
       "      <td>1.000000</td>\n",
       "      <td>1.000000</td>\n",
       "      <td>2.000000</td>\n",
       "      <td>2.000000</td>\n",
       "      <td>2.000000</td>\n",
       "      <td>2.000000</td>\n",
       "      <td>2.000000</td>\n",
       "      <td>2.000000</td>\n",
       "    </tr>\n",
       "    <tr>\n",
       "      <th>x</th>\n",
       "      <td>0.000000</td>\n",
       "      <td>0.000000</td>\n",
       "      <td>0.000000</td>\n",
       "      <td>0.000000</td>\n",
       "      <td>0.000000</td>\n",
       "      <td>0.000000</td>\n",
       "      <td>0.000000</td>\n",
       "      <td>0.000000</td>\n",
       "      <td>0.000000</td>\n",
       "      <td>0.000000</td>\n",
       "      <td>0.000000</td>\n",
       "      <td>0.000000</td>\n",
       "      <td>0.000000</td>\n",
       "      <td>0.000000</td>\n",
       "      <td>0.000000</td>\n",
       "      <td>0.000000</td>\n",
       "      <td>0.000000</td>\n",
       "      <td>0.000000</td>\n",
       "    </tr>\n",
       "    <tr>\n",
       "      <th>y</th>\n",
       "      <td>0.000000</td>\n",
       "      <td>0.000000</td>\n",
       "      <td>0.000000</td>\n",
       "      <td>0.000000</td>\n",
       "      <td>0.000000</td>\n",
       "      <td>0.000000</td>\n",
       "      <td>0.000000</td>\n",
       "      <td>0.000000</td>\n",
       "      <td>0.000000</td>\n",
       "      <td>0.000000</td>\n",
       "      <td>0.000000</td>\n",
       "      <td>0.000000</td>\n",
       "      <td>0.000000</td>\n",
       "      <td>0.000000</td>\n",
       "      <td>0.000000</td>\n",
       "      <td>0.000000</td>\n",
       "      <td>0.000000</td>\n",
       "      <td>0.000000</td>\n",
       "    </tr>\n",
       "    <tr>\n",
       "      <th>z</th>\n",
       "      <td>15.000000</td>\n",
       "      <td>31.000000</td>\n",
       "      <td>50.000000</td>\n",
       "      <td>85.000000</td>\n",
       "      <td>110.000000</td>\n",
       "      <td>131.000000</td>\n",
       "      <td>15.000000</td>\n",
       "      <td>31.000000</td>\n",
       "      <td>50.000000</td>\n",
       "      <td>85.000000</td>\n",
       "      <td>110.000000</td>\n",
       "      <td>131.000000</td>\n",
       "      <td>15.000000</td>\n",
       "      <td>31.000000</td>\n",
       "      <td>50.000000</td>\n",
       "      <td>85.000000</td>\n",
       "      <td>110.000000</td>\n",
       "      <td>131.000000</td>\n",
       "    </tr>\n",
       "    <tr>\n",
       "      <th>0.0</th>\n",
       "      <td>10.150452</td>\n",
       "      <td>9.434762</td>\n",
       "      <td>11.832569</td>\n",
       "      <td>9.484165</td>\n",
       "      <td>9.770953</td>\n",
       "      <td>10.493375</td>\n",
       "      <td>-0.430319</td>\n",
       "      <td>1.158134</td>\n",
       "      <td>-2.263208</td>\n",
       "      <td>2.070390</td>\n",
       "      <td>-0.430243</td>\n",
       "      <td>-1.498706</td>\n",
       "      <td>0.730676</td>\n",
       "      <td>-0.875914</td>\n",
       "      <td>-0.218713</td>\n",
       "      <td>-1.324753</td>\n",
       "      <td>0.310156</td>\n",
       "      <td>0.130720</td>\n",
       "    </tr>\n",
       "    <tr>\n",
       "      <th>0.5</th>\n",
       "      <td>10.475959</td>\n",
       "      <td>10.167473</td>\n",
       "      <td>12.190913</td>\n",
       "      <td>10.061058</td>\n",
       "      <td>8.273560</td>\n",
       "      <td>11.658179</td>\n",
       "      <td>-1.648070</td>\n",
       "      <td>-0.735037</td>\n",
       "      <td>-2.015695</td>\n",
       "      <td>1.883539</td>\n",
       "      <td>-0.999865</td>\n",
       "      <td>-1.230614</td>\n",
       "      <td>-0.323829</td>\n",
       "      <td>-1.506976</td>\n",
       "      <td>-0.078518</td>\n",
       "      <td>-0.818285</td>\n",
       "      <td>0.995609</td>\n",
       "      <td>0.300717</td>\n",
       "    </tr>\n",
       "    <tr>\n",
       "      <th>1.0</th>\n",
       "      <td>9.983335</td>\n",
       "      <td>10.759020</td>\n",
       "      <td>11.971997</td>\n",
       "      <td>10.166726</td>\n",
       "      <td>8.503804</td>\n",
       "      <td>12.863211</td>\n",
       "      <td>0.977524</td>\n",
       "      <td>-1.373456</td>\n",
       "      <td>0.074650</td>\n",
       "      <td>2.233633</td>\n",
       "      <td>-1.589460</td>\n",
       "      <td>-1.033165</td>\n",
       "      <td>-0.288602</td>\n",
       "      <td>-2.034096</td>\n",
       "      <td>0.639279</td>\n",
       "      <td>-1.643624</td>\n",
       "      <td>0.233476</td>\n",
       "      <td>0.878348</td>\n",
       "    </tr>\n",
       "  </tbody>\n",
       "</table>\n",
       "</div>"
      ],
      "text/plain": [
       "            u_p0       u_p1       u_p2       u_p3        u_p4        u_p5  \\\n",
       "index                                                                       \n",
       "k       0.000000   0.000000   0.000000   0.000000    0.000000    0.000000   \n",
       "x       0.000000   0.000000   0.000000   0.000000    0.000000    0.000000   \n",
       "y       0.000000   0.000000   0.000000   0.000000    0.000000    0.000000   \n",
       "z      15.000000  31.000000  50.000000  85.000000  110.000000  131.000000   \n",
       "0.0    10.150452   9.434762  11.832569   9.484165    9.770953   10.493375   \n",
       "0.5    10.475959  10.167473  12.190913  10.061058    8.273560   11.658179   \n",
       "1.0     9.983335  10.759020  11.971997  10.166726    8.503804   12.863211   \n",
       "\n",
       "            v_p0       v_p1       v_p2       v_p3        v_p4        v_p5  \\\n",
       "index                                                                       \n",
       "k       1.000000   1.000000   1.000000   1.000000    1.000000    1.000000   \n",
       "x       0.000000   0.000000   0.000000   0.000000    0.000000    0.000000   \n",
       "y       0.000000   0.000000   0.000000   0.000000    0.000000    0.000000   \n",
       "z      15.000000  31.000000  50.000000  85.000000  110.000000  131.000000   \n",
       "0.0    -0.430319   1.158134  -2.263208   2.070390   -0.430243   -1.498706   \n",
       "0.5    -1.648070  -0.735037  -2.015695   1.883539   -0.999865   -1.230614   \n",
       "1.0     0.977524  -1.373456   0.074650   2.233633   -1.589460   -1.033165   \n",
       "\n",
       "            w_p0       w_p1       w_p2       w_p3        w_p4        w_p5  \n",
       "index                                                                      \n",
       "k       2.000000   2.000000   2.000000   2.000000    2.000000    2.000000  \n",
       "x       0.000000   0.000000   0.000000   0.000000    0.000000    0.000000  \n",
       "y       0.000000   0.000000   0.000000   0.000000    0.000000    0.000000  \n",
       "z      15.000000  31.000000  50.000000  85.000000  110.000000  131.000000  \n",
       "0.0     0.730676  -0.875914  -0.218713  -1.324753    0.310156    0.130720  \n",
       "0.5    -0.323829  -1.506976  -0.078518  -0.818285    0.995609    0.300717  \n",
       "1.0    -0.288602  -2.034096   0.639279  -1.643624    0.233476    0.878348  "
      ]
     },
     "execution_count": 2,
     "metadata": {},
     "output_type": "execute_result"
    }
   ],
   "source": [
    "con_tc = TimeConstraint(pd.read_csv(data_dir / 'con_tc.csv', index_col=0))  # load data from csv directly into tc\n",
    "con_tc.index = con_tc.index.map(lambda x: float(x) if (x not in 'kxyz') else x)  # index cleaning\n",
    "con_tc.iloc[:7, :]  # look at the first 7 rows"
   ]
  },
  {
   "cell_type": "markdown",
   "metadata": {},
   "source": [
    "We can see that the first 4 rows specify the turbulent component, longitudinal, lateral and vertical directions. Afterwards, the time step values come, which are the actual constraining values used in PyConTurb. This is the row order that PyConTurb requires/assumes.\n",
    "\n",
    "**Note**: when generating constrained turbulence, the time step values in the `TimeConstraint` must be the same as the desired simulated turbulence (i.e., $T$, $\\Delta t$). PyConTurb will raise an error if they do not match. This means you might need to interpolate/resample your constraints if you want to simulate a turbulence box with a certain $\\Delta t$.\n",
    "\n",
    "We can easily isolate just the spatial part or time part if needed."
   ]
  },
  {
   "cell_type": "code",
   "execution_count": 3,
   "metadata": {},
   "outputs": [
    {
     "data": {
      "text/html": [
       "<div>\n",
       "<style scoped>\n",
       "    .dataframe tbody tr th:only-of-type {\n",
       "        vertical-align: middle;\n",
       "    }\n",
       "\n",
       "    .dataframe tbody tr th {\n",
       "        vertical-align: top;\n",
       "    }\n",
       "\n",
       "    .dataframe thead th {\n",
       "        text-align: right;\n",
       "    }\n",
       "</style>\n",
       "<table border=\"1\" class=\"dataframe\">\n",
       "  <thead>\n",
       "    <tr style=\"text-align: right;\">\n",
       "      <th></th>\n",
       "      <th>u_p0</th>\n",
       "      <th>u_p1</th>\n",
       "      <th>u_p2</th>\n",
       "      <th>u_p3</th>\n",
       "      <th>u_p4</th>\n",
       "      <th>u_p5</th>\n",
       "      <th>v_p0</th>\n",
       "      <th>v_p1</th>\n",
       "      <th>v_p2</th>\n",
       "      <th>v_p3</th>\n",
       "      <th>v_p4</th>\n",
       "      <th>v_p5</th>\n",
       "      <th>w_p0</th>\n",
       "      <th>w_p1</th>\n",
       "      <th>w_p2</th>\n",
       "      <th>w_p3</th>\n",
       "      <th>w_p4</th>\n",
       "      <th>w_p5</th>\n",
       "    </tr>\n",
       "    <tr>\n",
       "      <th>index</th>\n",
       "      <th></th>\n",
       "      <th></th>\n",
       "      <th></th>\n",
       "      <th></th>\n",
       "      <th></th>\n",
       "      <th></th>\n",
       "      <th></th>\n",
       "      <th></th>\n",
       "      <th></th>\n",
       "      <th></th>\n",
       "      <th></th>\n",
       "      <th></th>\n",
       "      <th></th>\n",
       "      <th></th>\n",
       "      <th></th>\n",
       "      <th></th>\n",
       "      <th></th>\n",
       "      <th></th>\n",
       "    </tr>\n",
       "  </thead>\n",
       "  <tbody>\n",
       "    <tr>\n",
       "      <th>k</th>\n",
       "      <td>0.0</td>\n",
       "      <td>0.0</td>\n",
       "      <td>0.0</td>\n",
       "      <td>0.0</td>\n",
       "      <td>0.0</td>\n",
       "      <td>0.0</td>\n",
       "      <td>1.0</td>\n",
       "      <td>1.0</td>\n",
       "      <td>1.0</td>\n",
       "      <td>1.0</td>\n",
       "      <td>1.0</td>\n",
       "      <td>1.0</td>\n",
       "      <td>2.0</td>\n",
       "      <td>2.0</td>\n",
       "      <td>2.0</td>\n",
       "      <td>2.0</td>\n",
       "      <td>2.0</td>\n",
       "      <td>2.0</td>\n",
       "    </tr>\n",
       "    <tr>\n",
       "      <th>x</th>\n",
       "      <td>0.0</td>\n",
       "      <td>0.0</td>\n",
       "      <td>0.0</td>\n",
       "      <td>0.0</td>\n",
       "      <td>0.0</td>\n",
       "      <td>0.0</td>\n",
       "      <td>0.0</td>\n",
       "      <td>0.0</td>\n",
       "      <td>0.0</td>\n",
       "      <td>0.0</td>\n",
       "      <td>0.0</td>\n",
       "      <td>0.0</td>\n",
       "      <td>0.0</td>\n",
       "      <td>0.0</td>\n",
       "      <td>0.0</td>\n",
       "      <td>0.0</td>\n",
       "      <td>0.0</td>\n",
       "      <td>0.0</td>\n",
       "    </tr>\n",
       "    <tr>\n",
       "      <th>y</th>\n",
       "      <td>0.0</td>\n",
       "      <td>0.0</td>\n",
       "      <td>0.0</td>\n",
       "      <td>0.0</td>\n",
       "      <td>0.0</td>\n",
       "      <td>0.0</td>\n",
       "      <td>0.0</td>\n",
       "      <td>0.0</td>\n",
       "      <td>0.0</td>\n",
       "      <td>0.0</td>\n",
       "      <td>0.0</td>\n",
       "      <td>0.0</td>\n",
       "      <td>0.0</td>\n",
       "      <td>0.0</td>\n",
       "      <td>0.0</td>\n",
       "      <td>0.0</td>\n",
       "      <td>0.0</td>\n",
       "      <td>0.0</td>\n",
       "    </tr>\n",
       "    <tr>\n",
       "      <th>z</th>\n",
       "      <td>15.0</td>\n",
       "      <td>31.0</td>\n",
       "      <td>50.0</td>\n",
       "      <td>85.0</td>\n",
       "      <td>110.0</td>\n",
       "      <td>131.0</td>\n",
       "      <td>15.0</td>\n",
       "      <td>31.0</td>\n",
       "      <td>50.0</td>\n",
       "      <td>85.0</td>\n",
       "      <td>110.0</td>\n",
       "      <td>131.0</td>\n",
       "      <td>15.0</td>\n",
       "      <td>31.0</td>\n",
       "      <td>50.0</td>\n",
       "      <td>85.0</td>\n",
       "      <td>110.0</td>\n",
       "      <td>131.0</td>\n",
       "    </tr>\n",
       "  </tbody>\n",
       "</table>\n",
       "</div>"
      ],
      "text/plain": [
       "       u_p0  u_p1  u_p2  u_p3   u_p4   u_p5  v_p0  v_p1  v_p2  v_p3   v_p4  \\\n",
       "index                                                                        \n",
       "k       0.0   0.0   0.0   0.0    0.0    0.0   1.0   1.0   1.0   1.0    1.0   \n",
       "x       0.0   0.0   0.0   0.0    0.0    0.0   0.0   0.0   0.0   0.0    0.0   \n",
       "y       0.0   0.0   0.0   0.0    0.0    0.0   0.0   0.0   0.0   0.0    0.0   \n",
       "z      15.0  31.0  50.0  85.0  110.0  131.0  15.0  31.0  50.0  85.0  110.0   \n",
       "\n",
       "        v_p5  w_p0  w_p1  w_p2  w_p3   w_p4   w_p5  \n",
       "index                                               \n",
       "k        1.0   2.0   2.0   2.0   2.0    2.0    2.0  \n",
       "x        0.0   0.0   0.0   0.0   0.0    0.0    0.0  \n",
       "y        0.0   0.0   0.0   0.0   0.0    0.0    0.0  \n",
       "z      131.0  15.0  31.0  50.0  85.0  110.0  131.0  "
      ]
     },
     "execution_count": 3,
     "metadata": {},
     "output_type": "execute_result"
    }
   ],
   "source": [
    "con_tc.get_spat()"
   ]
  },
  {
   "cell_type": "code",
   "execution_count": 4,
   "metadata": {},
   "outputs": [
    {
     "data": {
      "text/html": [
       "<div>\n",
       "<style scoped>\n",
       "    .dataframe tbody tr th:only-of-type {\n",
       "        vertical-align: middle;\n",
       "    }\n",
       "\n",
       "    .dataframe tbody tr th {\n",
       "        vertical-align: top;\n",
       "    }\n",
       "\n",
       "    .dataframe thead th {\n",
       "        text-align: right;\n",
       "    }\n",
       "</style>\n",
       "<table border=\"1\" class=\"dataframe\">\n",
       "  <thead>\n",
       "    <tr style=\"text-align: right;\">\n",
       "      <th></th>\n",
       "      <th>u_p0</th>\n",
       "      <th>u_p1</th>\n",
       "      <th>u_p2</th>\n",
       "      <th>u_p3</th>\n",
       "      <th>u_p4</th>\n",
       "      <th>u_p5</th>\n",
       "      <th>v_p0</th>\n",
       "      <th>v_p1</th>\n",
       "    </tr>\n",
       "    <tr>\n",
       "      <th>index</th>\n",
       "      <th></th>\n",
       "      <th></th>\n",
       "      <th></th>\n",
       "      <th></th>\n",
       "      <th></th>\n",
       "      <th></th>\n",
       "      <th></th>\n",
       "      <th></th>\n",
       "    </tr>\n",
       "  </thead>\n",
       "  <tbody>\n",
       "    <tr>\n",
       "      <th>0.0</th>\n",
       "      <td>10.150452</td>\n",
       "      <td>9.434762</td>\n",
       "      <td>11.832569</td>\n",
       "      <td>9.484165</td>\n",
       "      <td>9.770953</td>\n",
       "      <td>10.493375</td>\n",
       "      <td>-0.430319</td>\n",
       "      <td>1.158134</td>\n",
       "    </tr>\n",
       "    <tr>\n",
       "      <th>0.5</th>\n",
       "      <td>10.475959</td>\n",
       "      <td>10.167473</td>\n",
       "      <td>12.190913</td>\n",
       "      <td>10.061058</td>\n",
       "      <td>8.273560</td>\n",
       "      <td>11.658179</td>\n",
       "      <td>-1.648070</td>\n",
       "      <td>-0.735037</td>\n",
       "    </tr>\n",
       "    <tr>\n",
       "      <th>1.0</th>\n",
       "      <td>9.983335</td>\n",
       "      <td>10.759020</td>\n",
       "      <td>11.971997</td>\n",
       "      <td>10.166726</td>\n",
       "      <td>8.503804</td>\n",
       "      <td>12.863211</td>\n",
       "      <td>0.977524</td>\n",
       "      <td>-1.373456</td>\n",
       "    </tr>\n",
       "    <tr>\n",
       "      <th>1.5</th>\n",
       "      <td>10.047177</td>\n",
       "      <td>13.313312</td>\n",
       "      <td>10.030070</td>\n",
       "      <td>10.861709</td>\n",
       "      <td>9.786593</td>\n",
       "      <td>12.904878</td>\n",
       "      <td>0.593077</td>\n",
       "      <td>-1.152047</td>\n",
       "    </tr>\n",
       "    <tr>\n",
       "      <th>2.0</th>\n",
       "      <td>10.890584</td>\n",
       "      <td>13.234037</td>\n",
       "      <td>12.169473</td>\n",
       "      <td>11.615199</td>\n",
       "      <td>10.128994</td>\n",
       "      <td>12.915150</td>\n",
       "      <td>0.820170</td>\n",
       "      <td>-0.918247</td>\n",
       "    </tr>\n",
       "  </tbody>\n",
       "</table>\n",
       "</div>"
      ],
      "text/plain": [
       "            u_p0       u_p1       u_p2       u_p3       u_p4       u_p5  \\\n",
       "index                                                                     \n",
       "0.0    10.150452   9.434762  11.832569   9.484165   9.770953  10.493375   \n",
       "0.5    10.475959  10.167473  12.190913  10.061058   8.273560  11.658179   \n",
       "1.0     9.983335  10.759020  11.971997  10.166726   8.503804  12.863211   \n",
       "1.5    10.047177  13.313312  10.030070  10.861709   9.786593  12.904878   \n",
       "2.0    10.890584  13.234037  12.169473  11.615199  10.128994  12.915150   \n",
       "\n",
       "           v_p0      v_p1  \n",
       "index                      \n",
       "0.0   -0.430319  1.158134  \n",
       "0.5   -1.648070 -0.735037  \n",
       "1.0    0.977524 -1.373456  \n",
       "1.5    0.593077 -1.152047  \n",
       "2.0    0.820170 -0.918247  "
      ]
     },
     "execution_count": 4,
     "metadata": {},
     "output_type": "execute_result"
    }
   ],
   "source": [
    "con_tc.get_time().iloc[:5, :8]"
   ]
  },
  {
   "cell_type": "markdown",
   "metadata": {},
   "source": [
    "We can plot the points to visualize the locations of the constrainting points in space."
   ]
  },
  {
   "cell_type": "code",
   "execution_count": 5,
   "metadata": {},
   "outputs": [
    {
     "data": {
      "image/png": "[encoded data removed]",
      "text/plain": [
       "<Figure size 432x288 with 1 Axes>"
      ]
     },
     "metadata": {
      "needs_background": "light"
     },
     "output_type": "display_data"
    }
   ],
   "source": [
    "u_locs = con_tc.get_spat().filter(regex='u_').loc[['y', 'z']]\n",
    "[plt.scatter(u_locs.loc['y', col], u_locs.loc['z', col], label=col)\n",
    " for col in u_locs];\n",
    "plt.legend(); plt.ylabel('height [m]'); plt.xticks([]);"
   ]
  },
  {
   "cell_type": "markdown",
   "metadata": {},
   "source": [
    "It is apparant that the constraining time series are located at a series of vertical heights, exactly as we would have if we were using data from 3D sonic anemometers on a met mast. Additionally, the numbering goes from `p0` at the lowest height to `p5` at the highest.\n",
    "\n",
    "Now let's visualize the constraining time series."
   ]
  },
  {
   "cell_type": "code",
   "execution_count": 6,
   "metadata": {},
   "outputs": [
    {
     "name": "stdout",
     "output_type": "stream",
     "text": [
      "7.348499074383097\n",
      "8.496747859173015\n",
      "9.349198761484706\n",
      "10.395949882075524\n",
      "10.946087842231579\n",
      "11.335342608555468\n"
     ]
    },
    {
     "data": {
      "image/png": "[encoded data removed]",
      "text/plain": [
       "<Figure size 432x288 with 1 Axes>"
      ]
     },
     "metadata": {
      "needs_background": "light"
     },
     "output_type": "display_data"
    }
   ],
   "source": [
    "time_df = con_tc.get_time()\n",
    "ax = time_df.filter(regex='u_', axis=1).plot(lw=0.75)  # subselect long. wind component\n",
    "ax.set_ylabel('longitudinal wind speed [m/s]');\n",
    "[print(x) for x in time_df.filter(regex='u_', axis=1).mean()];  # print mean values"
   ]
  },
  {
   "cell_type": "markdown",
   "metadata": {},
   "source": [
    "We can see an increase in the mean wind speed for higher points, which is as expected.\n",
    "\n",
    "Now, let's simulate a turbulence box.\n",
    "\n",
    "## Inputs to constrained turbulence\n",
    "\n",
    "The first step is to define the spatial information for the desired turbulence box and the related parameters for the turbulence generation technique. In this case we will use the default IEC 61400-1 Ed. 3 simulation procedures (Kaimal Spectrum with Exponential Coherence) instead of interpolating from the data. Note that, by default, PyConTurb will not interpolate profiles from data."
   ]
  },
  {
   "cell_type": "code",
   "execution_count": 7,
   "metadata": {},
   "outputs": [],
   "source": [
    "y = np.linspace(-65, 65, 5)  # lateral components of turbulent grid\n",
    "z = np.linspace(14, 134, 9)  # vertical components of turbulent grid\n",
    "kwargs = {'u_ref': 10, 'turb_class': 'B', 'z_hub': 70,  # necessary keyword arguments for IEC turbulence\n",
    "          'T': con_tc.get_T(), 'nt': con_tc.get_time().size}  # simulation length (s) and time step (s)\n",
    "interp_data = 'none'  # use the default IEC 61400-1 profile instead of interpolating from contstraints"
   ]
  },
  {
   "cell_type": "markdown",
   "metadata": {},
   "source": [
    "This function below generates the actual spatial data. It assumes we want all three turbulence components at each spatial location."
   ]
  },
  {
   "cell_type": "code",
   "execution_count": 9,
   "metadata": {},
   "outputs": [],
   "source": [
    "spat_df = gen_spat_grid(y, z)  # create our spatial pandas dataframe. Columns are k, p_id x, y, and z."
   ]
  },
  {
   "cell_type": "markdown",
   "metadata": {},
   "source": [
    "A visualization of the simulation grid and constraining points:"
   ]
  },
  {
   "cell_type": "code",
   "execution_count": 10,
   "metadata": {},
   "outputs": [
    {
     "data": {
      "image/png": "[encoded data removed]",
      "text/plain": [
       "<Figure size 432x288 with 1 Axes>"
      ]
     },
     "metadata": {
      "needs_background": "light"
     },
     "output_type": "display_data"
    }
   ],
   "source": [
    "plt.scatter(spat_df.loc['y'], spat_df.loc['z'], label='sim. grid')\n",
    "plt.plot(con_tc.iloc[2, :6], con_tc.iloc[3, :6], 'rX', label='constraint')\n",
    "plt.axis('equal'); plt.legend(bbox_to_anchor=(1.05, 1), loc=2, borderaxespad=0.);"
   ]
  },
  {
   "cell_type": "markdown",
   "metadata": {},
   "source": [
    "## Generate constrained turbulence\n",
    "\n",
    "We now pass our constraint object and other arguments into `gen_turb` as follows."
   ]
  },
  {
   "cell_type": "code",
   "execution_count": 11,
   "metadata": {},
   "outputs": [
    {
     "ename": "ValueError",
     "evalue": "operands could not be broadcast together with shapes (200,) (3600,) ",
     "output_type": "error",
     "traceback": [
      "\u001b[1;31m---------------------------------------------------------------------------\u001b[0m",
      "\u001b[1;31mValueError\u001b[0m                                Traceback (most recent call last)",
      "\u001b[1;32m<ipython-input-11-b391b00a5b8f>\u001b[0m in \u001b[0;36m<module>\u001b[1;34m\u001b[0m\n\u001b[1;32m----> 1\u001b[1;33m \u001b[0msim_turb_df\u001b[0m \u001b[1;33m=\u001b[0m \u001b[0mgen_turb\u001b[0m\u001b[1;33m(\u001b[0m\u001b[0mspat_df\u001b[0m\u001b[1;33m,\u001b[0m \u001b[0mcon_tc\u001b[0m\u001b[1;33m=\u001b[0m\u001b[0mcon_tc\u001b[0m\u001b[1;33m,\u001b[0m \u001b[0minterp_data\u001b[0m\u001b[1;33m=\u001b[0m\u001b[0minterp_data\u001b[0m\u001b[1;33m,\u001b[0m \u001b[1;33m**\u001b[0m\u001b[0mkwargs\u001b[0m\u001b[1;33m)\u001b[0m\u001b[1;33m\u001b[0m\u001b[1;33m\u001b[0m\u001b[0m\n\u001b[0m",
      "\u001b[1;32mc:\\users\\rink\\git\\g-pyconturb\\pyconturb\\pyconturb\\simulation.py\u001b[0m in \u001b[0;36mgen_turb\u001b[1;34m(spat_df, T, nt, con_tc, coh_model, wsp_func, sig_func, spec_func, interp_data, seed, nf_chunk, dtype, verbose, **kwargs)\u001b[0m\n\u001b[0;32m    117\u001b[0m         \u001b[0mconstrained\u001b[0m \u001b[1;33m=\u001b[0m \u001b[1;32mTrue\u001b[0m\u001b[1;33m\u001b[0m\u001b[1;33m\u001b[0m\u001b[0m\n\u001b[0;32m    118\u001b[0m         \u001b[0mn_d\u001b[0m \u001b[1;33m=\u001b[0m \u001b[0mcon_tc\u001b[0m\u001b[1;33m.\u001b[0m\u001b[0mshape\u001b[0m\u001b[1;33m[\u001b[0m\u001b[1;36m1\u001b[0m\u001b[1;33m]\u001b[0m  \u001b[1;31m# no. of constraints\u001b[0m\u001b[1;33m\u001b[0m\u001b[1;33m\u001b[0m\u001b[0m\n\u001b[1;32m--> 119\u001b[1;33m         \u001b[1;32mif\u001b[0m \u001b[1;32mnot\u001b[0m \u001b[0mnp\u001b[0m\u001b[1;33m.\u001b[0m\u001b[0mallclose\u001b[0m\u001b[1;33m(\u001b[0m\u001b[0mcon_tc\u001b[0m\u001b[1;33m.\u001b[0m\u001b[0mget_time\u001b[0m\u001b[1;33m(\u001b[0m\u001b[1;33m)\u001b[0m\u001b[1;33m.\u001b[0m\u001b[0mindex\u001b[0m\u001b[1;33m.\u001b[0m\u001b[0mvalues\u001b[0m\u001b[1;33m.\u001b[0m\u001b[0mastype\u001b[0m\u001b[1;33m(\u001b[0m\u001b[0mfloat\u001b[0m\u001b[1;33m)\u001b[0m\u001b[1;33m,\u001b[0m \u001b[0mt\u001b[0m\u001b[1;33m)\u001b[0m\u001b[1;33m:\u001b[0m\u001b[1;33m\u001b[0m\u001b[1;33m\u001b[0m\u001b[0m\n\u001b[0m\u001b[0;32m    120\u001b[0m             \u001b[1;32mraise\u001b[0m \u001b[0mValueError\u001b[0m\u001b[1;33m(\u001b[0m\u001b[1;34m'TimeConstraint time does not match requested T, dt!'\u001b[0m\u001b[1;33m)\u001b[0m\u001b[1;33m\u001b[0m\u001b[1;33m\u001b[0m\u001b[0m\n\u001b[0;32m    121\u001b[0m \u001b[1;33m\u001b[0m\u001b[0m\n",
      "\u001b[1;32m<__array_function__ internals>\u001b[0m in \u001b[0;36mallclose\u001b[1;34m(*args, **kwargs)\u001b[0m\n",
      "\u001b[1;32m~\\AppData\\Local\\Continuum\\miniconda3\\envs\\pyconturb\\lib\\site-packages\\numpy\\core\\numeric.py\u001b[0m in \u001b[0;36mallclose\u001b[1;34m(a, b, rtol, atol, equal_nan)\u001b[0m\n\u001b[0;32m   2187\u001b[0m \u001b[1;33m\u001b[0m\u001b[0m\n\u001b[0;32m   2188\u001b[0m     \"\"\"\n\u001b[1;32m-> 2189\u001b[1;33m     \u001b[0mres\u001b[0m \u001b[1;33m=\u001b[0m \u001b[0mall\u001b[0m\u001b[1;33m(\u001b[0m\u001b[0misclose\u001b[0m\u001b[1;33m(\u001b[0m\u001b[0ma\u001b[0m\u001b[1;33m,\u001b[0m \u001b[0mb\u001b[0m\u001b[1;33m,\u001b[0m \u001b[0mrtol\u001b[0m\u001b[1;33m=\u001b[0m\u001b[0mrtol\u001b[0m\u001b[1;33m,\u001b[0m \u001b[0matol\u001b[0m\u001b[1;33m=\u001b[0m\u001b[0matol\u001b[0m\u001b[1;33m,\u001b[0m \u001b[0mequal_nan\u001b[0m\u001b[1;33m=\u001b[0m\u001b[0mequal_nan\u001b[0m\u001b[1;33m)\u001b[0m\u001b[1;33m)\u001b[0m\u001b[1;33m\u001b[0m\u001b[1;33m\u001b[0m\u001b[0m\n\u001b[0m\u001b[0;32m   2190\u001b[0m     \u001b[1;32mreturn\u001b[0m \u001b[0mbool\u001b[0m\u001b[1;33m(\u001b[0m\u001b[0mres\u001b[0m\u001b[1;33m)\u001b[0m\u001b[1;33m\u001b[0m\u001b[1;33m\u001b[0m\u001b[0m\n\u001b[0;32m   2191\u001b[0m \u001b[1;33m\u001b[0m\u001b[0m\n",
      "\u001b[1;32m<__array_function__ internals>\u001b[0m in \u001b[0;36misclose\u001b[1;34m(*args, **kwargs)\u001b[0m\n",
      "\u001b[1;32m~\\AppData\\Local\\Continuum\\miniconda3\\envs\\pyconturb\\lib\\site-packages\\numpy\\core\\numeric.py\u001b[0m in \u001b[0;36misclose\u001b[1;34m(a, b, rtol, atol, equal_nan)\u001b[0m\n\u001b[0;32m   2288\u001b[0m     \u001b[0myfin\u001b[0m \u001b[1;33m=\u001b[0m \u001b[0misfinite\u001b[0m\u001b[1;33m(\u001b[0m\u001b[0my\u001b[0m\u001b[1;33m)\u001b[0m\u001b[1;33m\u001b[0m\u001b[1;33m\u001b[0m\u001b[0m\n\u001b[0;32m   2289\u001b[0m     \u001b[1;32mif\u001b[0m \u001b[0mall\u001b[0m\u001b[1;33m(\u001b[0m\u001b[0mxfin\u001b[0m\u001b[1;33m)\u001b[0m \u001b[1;32mand\u001b[0m \u001b[0mall\u001b[0m\u001b[1;33m(\u001b[0m\u001b[0myfin\u001b[0m\u001b[1;33m)\u001b[0m\u001b[1;33m:\u001b[0m\u001b[1;33m\u001b[0m\u001b[1;33m\u001b[0m\u001b[0m\n\u001b[1;32m-> 2290\u001b[1;33m         \u001b[1;32mreturn\u001b[0m \u001b[0mwithin_tol\u001b[0m\u001b[1;33m(\u001b[0m\u001b[0mx\u001b[0m\u001b[1;33m,\u001b[0m \u001b[0my\u001b[0m\u001b[1;33m,\u001b[0m \u001b[0matol\u001b[0m\u001b[1;33m,\u001b[0m \u001b[0mrtol\u001b[0m\u001b[1;33m)\u001b[0m\u001b[1;33m\u001b[0m\u001b[1;33m\u001b[0m\u001b[0m\n\u001b[0m\u001b[0;32m   2291\u001b[0m     \u001b[1;32melse\u001b[0m\u001b[1;33m:\u001b[0m\u001b[1;33m\u001b[0m\u001b[1;33m\u001b[0m\u001b[0m\n\u001b[0;32m   2292\u001b[0m         \u001b[0mfinite\u001b[0m \u001b[1;33m=\u001b[0m \u001b[0mxfin\u001b[0m \u001b[1;33m&\u001b[0m \u001b[0myfin\u001b[0m\u001b[1;33m\u001b[0m\u001b[1;33m\u001b[0m\u001b[0m\n",
      "\u001b[1;32m~\\AppData\\Local\\Continuum\\miniconda3\\envs\\pyconturb\\lib\\site-packages\\numpy\\core\\numeric.py\u001b[0m in \u001b[0;36mwithin_tol\u001b[1;34m(x, y, atol, rtol)\u001b[0m\n\u001b[0;32m   2274\u001b[0m     \u001b[1;32mdef\u001b[0m \u001b[0mwithin_tol\u001b[0m\u001b[1;33m(\u001b[0m\u001b[0mx\u001b[0m\u001b[1;33m,\u001b[0m \u001b[0my\u001b[0m\u001b[1;33m,\u001b[0m \u001b[0matol\u001b[0m\u001b[1;33m,\u001b[0m \u001b[0mrtol\u001b[0m\u001b[1;33m)\u001b[0m\u001b[1;33m:\u001b[0m\u001b[1;33m\u001b[0m\u001b[1;33m\u001b[0m\u001b[0m\n\u001b[0;32m   2275\u001b[0m         \u001b[1;32mwith\u001b[0m \u001b[0merrstate\u001b[0m\u001b[1;33m(\u001b[0m\u001b[0minvalid\u001b[0m\u001b[1;33m=\u001b[0m\u001b[1;34m'ignore'\u001b[0m\u001b[1;33m)\u001b[0m\u001b[1;33m:\u001b[0m\u001b[1;33m\u001b[0m\u001b[1;33m\u001b[0m\u001b[0m\n\u001b[1;32m-> 2276\u001b[1;33m             \u001b[1;32mreturn\u001b[0m \u001b[0mless_equal\u001b[0m\u001b[1;33m(\u001b[0m\u001b[0mabs\u001b[0m\u001b[1;33m(\u001b[0m\u001b[0mx\u001b[0m\u001b[1;33m-\u001b[0m\u001b[0my\u001b[0m\u001b[1;33m)\u001b[0m\u001b[1;33m,\u001b[0m \u001b[0matol\u001b[0m \u001b[1;33m+\u001b[0m \u001b[0mrtol\u001b[0m \u001b[1;33m*\u001b[0m \u001b[0mabs\u001b[0m\u001b[1;33m(\u001b[0m\u001b[0my\u001b[0m\u001b[1;33m)\u001b[0m\u001b[1;33m)\u001b[0m\u001b[1;33m\u001b[0m\u001b[1;33m\u001b[0m\u001b[0m\n\u001b[0m\u001b[0;32m   2277\u001b[0m \u001b[1;33m\u001b[0m\u001b[0m\n\u001b[0;32m   2278\u001b[0m     \u001b[0mx\u001b[0m \u001b[1;33m=\u001b[0m \u001b[0masanyarray\u001b[0m\u001b[1;33m(\u001b[0m\u001b[0ma\u001b[0m\u001b[1;33m)\u001b[0m\u001b[1;33m\u001b[0m\u001b[1;33m\u001b[0m\u001b[0m\n",
      "\u001b[1;31mValueError\u001b[0m: operands could not be broadcast together with shapes (200,) (3600,) "
     ]
    }
   ],
   "source": [
    "sim_turb_df = gen_turb(spat_df, con_tc=con_tc, interp_data=interp_data, **kwargs)"
   ]
  },
  {
   "cell_type": "markdown",
   "metadata": {},
   "source": [
    "As a sanity check, let's compare a simulated point that is close to a constraint point. If we did this right, they should look similar to each other."
   ]
  },
  {
   "cell_type": "code",
   "execution_count": null,
   "metadata": {},
   "outputs": [],
   "source": [
    "# find the points close to where we want to look\n",
    "yloc, zloc = 0, 14  # location we want to compare\n",
    "isim = np.argmin((spat_df.loc['y'].values - yloc)**2+(spat_df.loc['z'].values - zloc)**2)\n",
    "icon = np.argmin((con_tc.loc['y'].values - yloc)**2+(con_tc.loc['z'].values - zloc)**2)\n",
    "t, usim, ucon = sim_turb_df.index, sim_turb_df.iloc[:, isim], con_tc.get_time().iloc[:, icon]\n",
    "# plot the time series\n",
    "plt.plot(t, usim, label='simulated')\n",
    "plt.plot(t, ucon, 'r', label='constraint')\n",
    "plt.legend();"
   ]
  },
  {
   "cell_type": "markdown",
   "metadata": {},
   "source": [
    "Let's also check out statistics of $u$ by height:"
   ]
  },
  {
   "cell_type": "code",
   "execution_count": null,
   "metadata": {},
   "outputs": [],
   "source": [
    "stats = sim_turb_df.filter(regex='u_', axis=1).describe().loc[['mean', 'std']]\n",
    "# plot\n",
    "plt.clf(); plt.subplot(1, 2, 1);\n",
    "plt.scatter(stats.loc['mean'], spat_df.filter(regex='u_').loc['z'], label='Mean profile')\n",
    "plt.legend()\n",
    "plt.subplot(1, 2, 2)\n",
    "plt.scatter(stats.loc['std'], spat_df.filter(regex='u_').loc['z'], label='Std dev')\n",
    "plt.legend();"
   ]
  },
  {
   "cell_type": "markdown",
   "metadata": {},
   "source": [
    "**Note**: The profile functions selected for the wind speed, turbulence standard deviation and power spectra affect whether you regenerate the constraining data if a simulation point is collocated. One option is to use the built-in profile functions that interpolates these profiles from your data (see related example in the documentation). Otherwise, you can define your own profile functions for custom interpolation."
   ]
  }
 ],
 "metadata": {
  "kernelspec": {
   "display_name": "Python 3",
   "language": "python",
   "name": "python3"
  },
  "language_info": {
   "codemirror_mode": {
    "name": "ipython",
    "version": 3
   },
   "file_extension": ".py",
   "mimetype": "text/x-python",
   "name": "python",
   "nbconvert_exporter": "python",
   "pygments_lexer": "ipython3",
   "version": "3.7.9"
  }
 },
 "nbformat": 4,
 "nbformat_minor": 2
}
