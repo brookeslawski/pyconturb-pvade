{
 "cells": [
  {
   "cell_type": "markdown",
   "metadata": {},
   "source": [
    "# Pregenerating coherence"
   ]
  },
  {
   "cell_type": "markdown",
   "metadata": {},
   "source": [
    "If you need to generate many turbulence boxes with the same spatial geometry, you can pregenerate the spatial coherence and then save it to an HDF5 file for subsequent loading. This will make later simulations much faster. Here we will briefly show you how that is done."
   ]
  },
  {
   "cell_type": "markdown",
   "metadata": {},
   "source": [
    "## Preliminaries\n",
    "\n",
    "Let's import packages and set up the simulation parameters we want. For details on the code here, see the example on constraining time series."
   ]
  },
  {
   "cell_type": "code",
   "execution_count": null,
   "metadata": {},
   "outputs": [],
   "source": [
    "%matplotlib inline\n",
    "from pathlib import Path\n",
    "import time\n",
    "\n",
    "import matplotlib.pyplot as plt  # matplotlib for some plotting\n",
    "import numpy as np  # numeric python functions\n",
    "import pandas as pd  # need this to load our data from the csv files\n",
    "\n",
    "from pyconturb import gen_turb, gen_spat_grid, TimeConstraint  # functions we need from PyConTurb\n",
    "from pyconturb.coherence import generate_coherence_file\n",
    "from pyconturb._utils import get_freq\n",
    "\n",
    "coh_file = 'demo_coh.h5'\n",
    "\n",
    "# simulation settings and variables\n",
    "y = np.linspace(-65, 65, 15)  # lateral components of turbulent grid\n",
    "z = np.linspace(14, 134, 15)  # vertical components of turbulent grid\n",
    "spat_df = gen_spat_grid(y, z, comps=[0])  # create our spatial pandas dataframe. Columns are k, p_id x, y, and z.\n",
    "kwargs = {'u_ref': 10, 'turb_class': 'B', 'z_hub': 70, 'l_c': 340.2,\n",
    "          'T': 600, 'nt': 600, 'nf_chunk': 100, 'seed': 1337, 'dtype': np.float32}\n",
    "\n",
    "def mytime(fun, *args, **kwargs):\n",
    "    \"\"\"Time a function!\"\"\"\n",
    "    start = time.time()\n",
    "    out = fun(*args, **kwargs)\n",
    "    duration = time.time() - start\n",
    "    return out, duration    "
   ]
  },
  {
   "cell_type": "markdown",
   "metadata": {},
   "source": [
    "## Turbulence without a pre-generated coherence file"
   ]
  },
  {
   "cell_type": "code",
   "execution_count": null,
   "metadata": {},
   "outputs": [],
   "source": [
    "turb_df_nofile, duration_nofile = mytime(gen_turb, spat_df, **kwargs)\n",
    "\n",
    "print(f'Simulation time: {duration_nofile:.1f}s')"
   ]
  },
  {
   "cell_type": "markdown",
   "metadata": {},
   "source": [
    "## Generate coherence file"
   ]
  },
  {
   "cell_type": "code",
   "execution_count": null,
   "metadata": {},
   "outputs": [],
   "source": [
    "t, freq = get_freq(**kwargs)\n",
    "generate_coherence_file(spat_df, coh_file, freq=freq, verbose=True, **kwargs)"
   ]
  },
  {
   "cell_type": "markdown",
   "metadata": {},
   "source": [
    "## Generate turbulence using coherence file"
   ]
  },
  {
   "cell_type": "code",
   "execution_count": null,
   "metadata": {},
   "outputs": [],
   "source": [
    "turb_df_file, duration_file = mytime(gen_turb, spat_df, **{**kwargs, **{'coh_file': coh_file}})\n",
    "\n",
    "print(f'Simulation time: {duration_file:.1f}s')\n",
    "print(f'\\nWith pre-generated coherence file, simulation is: {duration_nofile/duration_file:.2f} times faster!')"
   ]
  },
  {
   "cell_type": "markdown",
   "metadata": {},
   "source": [
    "## Verify turbulence is the same\n",
    "\n",
    "If this statement below does not throw an error, then the two turbulence fields are identical."
   ]
  },
  {
   "cell_type": "code",
   "execution_count": null,
   "metadata": {},
   "outputs": [],
   "source": [
    "pd.testing.assert_frame_equal(turb_df_nofile, turb_df_file)"
   ]
  },
  {
   "cell_type": "markdown",
   "metadata": {},
   "source": []
  }
 ],
 "metadata": {
  "kernelspec": {
   "display_name": "Python 3",
   "language": "python",
   "name": "python3"
  },
  "language_info": {
   "codemirror_mode": {
    "name": "ipython",
    "version": 3
   },
   "file_extension": ".py",
   "mimetype": "text/x-python",
   "name": "python",
   "nbconvert_exporter": "python",
   "pygments_lexer": "ipython3",
   "version": "3.7.9"
  }
 },
 "nbformat": 4,
 "nbformat_minor": 2
}
