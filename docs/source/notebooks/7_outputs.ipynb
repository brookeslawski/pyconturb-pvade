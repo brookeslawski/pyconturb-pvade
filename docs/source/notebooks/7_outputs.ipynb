{
 "cells": [
  {
   "cell_type": "markdown",
   "metadata": {},
   "source": [
    "# Saving to file"
   ]
  },
  {
   "cell_type": "markdown",
   "metadata": {},
   "source": [
    "Once a turbulence box has been generated, it can be converted to either a HAWC2 turbulence binary file (.bin) or a full-field TurbSim binary file (.bts).\n",
    "\n",
    "Here is a quick example that generates turbulence, saves it to file and then reloads it.\n",
    "\n",
    "**Note**: These read/write functions are only applicable to 3D turbulence boxes generated on a grid with a specific column naming convention/order. Please either use `gen_spat_grid` combined with `gen_turb` or be very sure that your column ordering/naming in your dataframe is consistent with PyConTurb's ordering."
   ]
  },
  {
   "cell_type": "code",
   "execution_count": null,
   "metadata": {},
   "outputs": [],
   "source": [
    "# import needed functions\n",
    "from pyconturb import gen_spat_grid, gen_turb\n",
    "from pyconturb.io import df_to_h2turb, h2turb_to_df, df_to_bts, bts_to_df\n",
    "import matplotlib.pyplot as plt"
   ]
  },
  {
   "cell_type": "code",
   "execution_count": null,
   "metadata": {},
   "outputs": [],
   "source": [
    "# create the turbulence box\n",
    "nt, dt = 100, 0.2\n",
    "spat_df = gen_spat_grid(0, [50, 70])  # two points\n",
    "turb_df = gen_turb(spat_df, T=nt*dt, dt=dt, u_ref=12)"
   ]
  },
  {
   "cell_type": "markdown",
   "metadata": {},
   "source": [
    "### HAWC2 turbulence format\n",
    "\n",
    "Because the HAWC2 binary format does not include all necessary information to save/reconstruct the turbulence box (e.g., the grid points), we must also pass `spat_df` into the functions. There are 3 output files that have endings \"u.bin\", \"v.bin\" and \"u.bin\". The `prefix` keyword argument allows you to prepend a string in from of the endings."
   ]
  },
  {
   "cell_type": "code",
   "execution_count": null,
   "metadata": {},
   "outputs": [],
   "source": [
    "# save in HAWC2 format (u.bin, v.bin, w.bin)\n",
    "path, prefix = '.', 'h2turb_'  # path is directory, prefix is prepended to \"u.bin\", \"v.bin\", \"w.bin\"\n",
    "df_to_h2turb(turb_df, spat_df, path, prefix=prefix)  # save file\n",
    "\n",
    "# reload file\n",
    "h2_df = h2turb_to_df(spat_df, path, prefix=prefix, nt=nt, dt=dt)\n",
    "\n",
    "# compare the original and reloaded turbulence files\n",
    "plt.plot(turb_df.u_p1, label='Original')\n",
    "plt.plot(h2_df.u_p1, label='Reloaded')\n",
    "plt.legend();"
   ]
  },
  {
   "cell_type": "markdown",
   "metadata": {},
   "source": [
    "### TurbSim turbulence format\n",
    "\n",
    "Unlike the HAWC2 format, the full-field TurbSim binary format stores all three components as well as all information required to reconstruct the turbulence box. However, we are still required to pass in `spat_df` on saving, because we need to encode the spatial information in `spat_df` into the output binary file.\n",
    "\n",
    "Because TurbSim requires specifying a hub height and corresponding wind speed, the write function allows you to specify those values directly. If no coordinates are given, the center of the grid is used."
   ]
  },
  {
   "cell_type": "code",
   "execution_count": null,
   "metadata": {},
   "outputs": [],
   "source": [
    "# save in TurbSim format (path.bts)\n",
    "path = 'ts.bts'  # path is name of file (with or without ending)\n",
    "df_to_bts(turb_df, spat_df, path, uzhub=None)  # assume hub height is in center of box\n",
    "\n",
    "# reload file\n",
    "ts_df = bts_to_df(path)\n",
    "\n",
    "# compare the original and reloaded turbulence files\n",
    "plt.plot(turb_df.u_p1, label='Original')\n",
    "plt.plot(ts_df.u_p1, label='Reloaded')\n",
    "plt.legend();"
   ]
  },
  {
   "cell_type": "code",
   "execution_count": null,
   "metadata": {},
   "outputs": [],
   "source": []
  }
 ],
 "metadata": {
  "kernelspec": {
   "display_name": "Python 3",
   "language": "python",
   "name": "python3"
  },
  "language_info": {
   "codemirror_mode": {
    "name": "ipython",
    "version": 3
   },
   "file_extension": ".py",
   "mimetype": "text/x-python",
   "name": "python",
   "nbconvert_exporter": "python",
   "pygments_lexer": "ipython3",
   "version": "3.7.9"
  }
 },
 "nbformat": 4,
 "nbformat_minor": 2
}
